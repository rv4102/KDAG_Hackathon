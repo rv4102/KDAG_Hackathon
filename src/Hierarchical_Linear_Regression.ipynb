{
 "cells": [
  {
   "cell_type": "code",
   "execution_count": 1,
   "metadata": {},
   "outputs": [
    {
     "name": "stdout",
     "output_type": "stream",
     "text": [
      "Running on PyMC3 v3.11.5\n"
     ]
    }
   ],
   "source": [
    "import arviz as az\n",
    "import matplotlib.pyplot as plt\n",
    "import numpy as np\n",
    "import pandas as pd\n",
    "import pymc3 as pm\n",
    "import theano\n",
    "import xarray as xr\n",
    "\n",
    "print(f\"Running on PyMC3 v{pm.__version__}\")"
   ]
  },
  {
   "cell_type": "code",
   "execution_count": 4,
   "metadata": {},
   "outputs": [],
   "source": [
    "df = pd.read_excel(\"./HCP_Data_KDAG_Hackathon.xlsx\", parse_dates=['Time_Period'])"
   ]
  },
  {
   "cell_type": "code",
   "execution_count": 5,
   "metadata": {},
   "outputs": [
    {
     "data": {
      "text/html": [
       "<div>\n",
       "<style scoped>\n",
       "    .dataframe tbody tr th:only-of-type {\n",
       "        vertical-align: middle;\n",
       "    }\n",
       "\n",
       "    .dataframe tbody tr th {\n",
       "        vertical-align: top;\n",
       "    }\n",
       "\n",
       "    .dataframe thead th {\n",
       "        text-align: right;\n",
       "    }\n",
       "</style>\n",
       "<table border=\"1\" class=\"dataframe\">\n",
       "  <thead>\n",
       "    <tr style=\"text-align: right;\">\n",
       "      <th></th>\n",
       "      <th>Physician_ID</th>\n",
       "      <th>Time_Period</th>\n",
       "      <th>Physician_Segment</th>\n",
       "      <th>Specialty</th>\n",
       "      <th>Sales_Rep_Calls</th>\n",
       "      <th>Samples_Dropped</th>\n",
       "      <th>Emails_Delivered</th>\n",
       "      <th>Brand_Rx</th>\n",
       "      <th>Market_Rx</th>\n",
       "    </tr>\n",
       "  </thead>\n",
       "  <tbody>\n",
       "    <tr>\n",
       "      <th>0</th>\n",
       "      <td>axt00001</td>\n",
       "      <td>2019-01-04</td>\n",
       "      <td>L</td>\n",
       "      <td>D</td>\n",
       "      <td>1</td>\n",
       "      <td>0</td>\n",
       "      <td>0</td>\n",
       "      <td>0.0</td>\n",
       "      <td>2.80567</td>\n",
       "    </tr>\n",
       "    <tr>\n",
       "      <th>1</th>\n",
       "      <td>axt00001</td>\n",
       "      <td>2019-01-11</td>\n",
       "      <td>L</td>\n",
       "      <td>D</td>\n",
       "      <td>1</td>\n",
       "      <td>0</td>\n",
       "      <td>0</td>\n",
       "      <td>0.0</td>\n",
       "      <td>20.57312</td>\n",
       "    </tr>\n",
       "    <tr>\n",
       "      <th>2</th>\n",
       "      <td>axt00001</td>\n",
       "      <td>2019-01-18</td>\n",
       "      <td>L</td>\n",
       "      <td>D</td>\n",
       "      <td>1</td>\n",
       "      <td>0</td>\n",
       "      <td>0</td>\n",
       "      <td>0.0</td>\n",
       "      <td>6.16010</td>\n",
       "    </tr>\n",
       "    <tr>\n",
       "      <th>3</th>\n",
       "      <td>axt00001</td>\n",
       "      <td>2019-01-25</td>\n",
       "      <td>L</td>\n",
       "      <td>D</td>\n",
       "      <td>1</td>\n",
       "      <td>5</td>\n",
       "      <td>0</td>\n",
       "      <td>0.0</td>\n",
       "      <td>8.95501</td>\n",
       "    </tr>\n",
       "    <tr>\n",
       "      <th>4</th>\n",
       "      <td>axt00001</td>\n",
       "      <td>2019-02-01</td>\n",
       "      <td>L</td>\n",
       "      <td>D</td>\n",
       "      <td>1</td>\n",
       "      <td>0</td>\n",
       "      <td>0</td>\n",
       "      <td>0.0</td>\n",
       "      <td>9.13793</td>\n",
       "    </tr>\n",
       "  </tbody>\n",
       "</table>\n",
       "</div>"
      ],
      "text/plain": [
       "  Physician_ID Time_Period Physician_Segment Specialty  Sales_Rep_Calls  \\\n",
       "0     axt00001  2019-01-04                 L         D                1   \n",
       "1     axt00001  2019-01-11                 L         D                1   \n",
       "2     axt00001  2019-01-18                 L         D                1   \n",
       "3     axt00001  2019-01-25                 L         D                1   \n",
       "4     axt00001  2019-02-01                 L         D                1   \n",
       "\n",
       "   Samples_Dropped  Emails_Delivered  Brand_Rx  Market_Rx  \n",
       "0                0                 0       0.0    2.80567  \n",
       "1                0                 0       0.0   20.57312  \n",
       "2                0                 0       0.0    6.16010  \n",
       "3                5                 0       0.0    8.95501  \n",
       "4                0                 0       0.0    9.13793  "
      ]
     },
     "execution_count": 5,
     "metadata": {},
     "output_type": "execute_result"
    }
   ],
   "source": [
    "df = df.drop(['Speaker_Programs_Attended', 'Vouchers_Dropped'], axis=1)\n",
    "df = df[['Physician_ID', 'Time_Period', 'Physician_Segment', 'Specialty', 'Sales_Rep_Calls', 'Samples_Dropped', 'Emails_Delivered', 'Brand_Rx', 'Market_Rx']]\n",
    "df['Specialty'] = df['Specialty'].map({'Dermatologist':'D', 'General Physician':'GP', 'Nurse Practitioner':'NP'})\n",
    "df['Physician_Segment'] = df['Physician_Segment'].map({'3-Low':'L', '2-Medium':'M', '1-High':'H'})\n",
    "df.head()"
   ]
  },
  {
   "attachments": {},
   "cell_type": "markdown",
   "metadata": {},
   "source": [
    "Fitting a model to explain Brand_Rx\n",
    "\n",
    "Brand_Rx[i, c] = a * Specialty + b * Physician_Segment + c * Sales_Rep_Calls + d * Samples_Dropped + e * Emails_Delivered + f * Market_Rx + g"
   ]
  },
  {
   "cell_type": "code",
   "execution_count": 6,
   "metadata": {},
   "outputs": [],
   "source": [
    "hcp_idxs, hcps = pd.factorize(df.Physician_ID)\n",
    "coords = {\n",
    "    \"id\": hcps,\n",
    "    \"obs_id\": np.arange(len(hcp_idxs)),\n",
    "}"
   ]
  },
  {
   "cell_type": "code",
   "execution_count": 7,
   "metadata": {},
   "outputs": [],
   "source": [
    "with pm.Model(coords=coords) as hierarchical_model:\n",
    "    hcp_idx = pm.Data(\"hcp_idx\", hcp_idxs, dims=\"obs_id\")\n",
    "\n",
    "    # # Hyperpriors for group nodes\n",
    "    # mu_a = pm.Normal(\"mu_a\", mu=0.0, sigma=100)\n",
    "    # sigma_a = pm.HalfNormal(\"sigma_a\", 5.0)\n",
    "\n",
    "    # mu_b = pm.Normal(\"mu_b\", mu=0.0, sigma=100)\n",
    "    # sigma_b = pm.HalfNormal(\"sigma_b\", 5.0)\n",
    "\n",
    "    mu_c = pm.Normal(\"mu_c\", mu=0.0, sigma=100)\n",
    "    sigma_c = pm.HalfNormal(\"sigma_c\", 5.0)\n",
    "\n",
    "    mu_d = pm.Normal(\"mu_d\", mu=0.0, sigma=100)\n",
    "    sigma_d = pm.HalfNormal(\"sigma_d\", 5.0)\n",
    "\n",
    "    mu_e = pm.Normal(\"mu_e\", mu=0.0, sigma=100)\n",
    "    sigma_e = pm.HalfNormal(\"sigma_e\", 5.0)\n",
    "\n",
    "    mu_f = pm.Normal(\"mu_f\", mu=0.0, sigma=100)\n",
    "    sigma_f = pm.HalfNormal(\"sigma_f\", 5.0)\n",
    "\n",
    "    mu_g = pm.Normal(\"mu_g\", mu=0.0, sigma=100)\n",
    "    sigma_g = pm.HalfNormal(\"sigma_g\", 5.0)\n",
    "\n",
    "    # # specialty of physician\n",
    "    # a = pm.Normal(\"a\", mu=mu_a, sigma=sigma_a, dims=\"id\")\n",
    "    # # segment of physician\n",
    "    # b = pm.Normal(\"b\", mu=mu_b, sigma=sigma_b, dims=\"id\")\n",
    "    # number of calls made by sales_rep\n",
    "    c = pm.Normal(\"c\", mu=mu_c, sigma=sigma_c, dims=\"id\") # ROI of sales_rep_calls\n",
    "    # number of samples dropped\n",
    "    d = pm.Normal(\"d\", mu=mu_d, sigma=sigma_d, dims=\"id\") # ROI of samples_dropped\n",
    "    # number of emails delivered\n",
    "    e = pm.Normal(\"e\", mu=mu_e, sigma=sigma_e, dims=\"id\") # ROI of emails_delivered\n",
    "    # how likely physician is to prescribe other drugs of similar class\n",
    "    f = pm.Normal(\"f\", mu=mu_f, sigma=sigma_f, dims=\"id\")\n",
    "    # intercept for each physician, distributed around group mean mu_g\n",
    "    g = pm.Normal(\"g\", mu=mu_g, sigma=sigma_g, dims=\"id\")\n",
    "\n",
    "    # Model error\n",
    "    eps = pm.HalfCauchy(\"eps\", 5.0)\n",
    "\n",
    "    # Expected value of outcome\n",
    "    brand_rx_est = c[hcp_idx] * df.Sales_Rep_Calls.values + d[hcp_idx] * df.Samples_Dropped.values + \\\n",
    "                    e[hcp_idx] * df.Emails_Delivered.values + f[hcp_idx] * df.Market_Rx.values + g[hcp_idx]\n",
    "\n",
    "    # Data likelihood\n",
    "    brand_rx_like = pm.Normal(\"brand_rx_like\", mu=brand_rx_est, sigma=eps, observed=df.Brand_Rx.values, dims=\"obs_id\")\n"
   ]
  },
  {
   "cell_type": "code",
   "execution_count": 10,
   "metadata": {},
   "outputs": [
    {
     "name": "stderr",
     "output_type": "stream",
     "text": [
      "Auto-assigning NUTS sampler...\n",
      "Initializing NUTS using jitter+adapt_diag...\n",
      "Multiprocess sampling (4 chains in 4 jobs)\n",
      "NUTS: [eps, g, f, e, d, c, sigma_g, mu_g, sigma_f, mu_f, sigma_e, mu_e, sigma_d, mu_d, sigma_c, mu_c]\n"
     ]
    },
    {
     "data": {
      "text/html": [
       "\n",
       "<style>\n",
       "    /* Turns off some styling */\n",
       "    progress {\n",
       "        /* gets rid of default border in Firefox and Opera. */\n",
       "        border: none;\n",
       "        /* Needs to be in here for Safari polyfill so background images work as expected. */\n",
       "        background-size: auto;\n",
       "    }\n",
       "    progress:not([value]), progress:not([value])::-webkit-progress-bar {\n",
       "        background: repeating-linear-gradient(45deg, #7e7e7e, #7e7e7e 10px, #5c5c5c 10px, #5c5c5c 20px);\n",
       "    }\n",
       "    .progress-bar-interrupted, .progress-bar-interrupted::-webkit-progress-bar {\n",
       "        background: #F44336;\n",
       "    }\n",
       "</style>\n"
      ],
      "text/plain": [
       "<IPython.core.display.HTML object>"
      ]
     },
     "metadata": {},
     "output_type": "display_data"
    },
    {
     "data": {
      "text/html": [
       "\n",
       "    <div>\n",
       "      <progress value='869' class='' max='8000' style='width:300px; height:20px; vertical-align: middle;'></progress>\n",
       "      10.86% [869/8000 58:44&lt;8:01:58 Sampling 4 chains, 0 divergences]\n",
       "    </div>\n",
       "    "
      ],
      "text/plain": [
       "<IPython.core.display.HTML object>"
      ]
     },
     "metadata": {},
     "output_type": "display_data"
    },
    {
     "ename": "ValueError",
     "evalue": "Not enough samples to build a trace.",
     "output_type": "error",
     "traceback": [
      "\u001b[0;31m---------------------------------------------------------------------------\u001b[0m",
      "\u001b[0;31mKeyboardInterrupt\u001b[0m                         Traceback (most recent call last)",
      "File \u001b[0;32m/opt/miniconda3/envs/ml_env/lib/python3.8/site-packages/pymc3/sampling.py:1496\u001b[0m, in \u001b[0;36m_mp_sample\u001b[0;34m(draws, tune, step, chains, cores, chain, random_seed, start, progressbar, trace, model, callback, discard_tuned_samples, mp_ctx, pickle_backend, **kwargs)\u001b[0m\n\u001b[1;32m   1495\u001b[0m \u001b[39mwith\u001b[39;00m sampler:\n\u001b[0;32m-> 1496\u001b[0m     \u001b[39mfor\u001b[39;00m draw \u001b[39min\u001b[39;00m sampler:\n\u001b[1;32m   1497\u001b[0m         trace \u001b[39m=\u001b[39m traces[draw\u001b[39m.\u001b[39mchain \u001b[39m-\u001b[39m chain]\n",
      "File \u001b[0;32m/opt/miniconda3/envs/ml_env/lib/python3.8/site-packages/pymc3/parallel_sampling.py:479\u001b[0m, in \u001b[0;36mParallelSampler.__iter__\u001b[0;34m(self)\u001b[0m\n\u001b[1;32m    478\u001b[0m \u001b[39mwhile\u001b[39;00m \u001b[39mself\u001b[39m\u001b[39m.\u001b[39m_active:\n\u001b[0;32m--> 479\u001b[0m     draw \u001b[39m=\u001b[39m ProcessAdapter\u001b[39m.\u001b[39;49mrecv_draw(\u001b[39mself\u001b[39;49m\u001b[39m.\u001b[39;49m_active)\n\u001b[1;32m    480\u001b[0m     proc, is_last, draw, tuning, stats, warns \u001b[39m=\u001b[39m draw\n",
      "File \u001b[0;32m/opt/miniconda3/envs/ml_env/lib/python3.8/site-packages/pymc3/parallel_sampling.py:346\u001b[0m, in \u001b[0;36mProcessAdapter.recv_draw\u001b[0;34m(processes, timeout)\u001b[0m\n\u001b[1;32m    345\u001b[0m pipes \u001b[39m=\u001b[39m [proc\u001b[39m.\u001b[39m_msg_pipe \u001b[39mfor\u001b[39;00m proc \u001b[39min\u001b[39;00m processes]\n\u001b[0;32m--> 346\u001b[0m ready \u001b[39m=\u001b[39m multiprocessing\u001b[39m.\u001b[39;49mconnection\u001b[39m.\u001b[39;49mwait(pipes)\n\u001b[1;32m    347\u001b[0m \u001b[39mif\u001b[39;00m \u001b[39mnot\u001b[39;00m ready:\n",
      "File \u001b[0;32m/opt/miniconda3/envs/ml_env/lib/python3.8/multiprocessing/connection.py:931\u001b[0m, in \u001b[0;36mwait\u001b[0;34m(object_list, timeout)\u001b[0m\n\u001b[1;32m    930\u001b[0m \u001b[39mwhile\u001b[39;00m \u001b[39mTrue\u001b[39;00m:\n\u001b[0;32m--> 931\u001b[0m     ready \u001b[39m=\u001b[39m selector\u001b[39m.\u001b[39;49mselect(timeout)\n\u001b[1;32m    932\u001b[0m     \u001b[39mif\u001b[39;00m ready:\n",
      "File \u001b[0;32m/opt/miniconda3/envs/ml_env/lib/python3.8/selectors.py:415\u001b[0m, in \u001b[0;36m_PollLikeSelector.select\u001b[0;34m(self, timeout)\u001b[0m\n\u001b[1;32m    414\u001b[0m \u001b[39mtry\u001b[39;00m:\n\u001b[0;32m--> 415\u001b[0m     fd_event_list \u001b[39m=\u001b[39m \u001b[39mself\u001b[39;49m\u001b[39m.\u001b[39;49m_selector\u001b[39m.\u001b[39;49mpoll(timeout)\n\u001b[1;32m    416\u001b[0m \u001b[39mexcept\u001b[39;00m \u001b[39mInterruptedError\u001b[39;00m:\n",
      "\u001b[0;31mKeyboardInterrupt\u001b[0m: ",
      "\nDuring handling of the above exception, another exception occurred:\n",
      "\u001b[0;31mValueError\u001b[0m                                Traceback (most recent call last)",
      "Cell \u001b[0;32mIn [10], line 2\u001b[0m\n\u001b[1;32m      1\u001b[0m \u001b[39mwith\u001b[39;00m hierarchical_model:\n\u001b[0;32m----> 2\u001b[0m     hierarchical_trace \u001b[39m=\u001b[39m pm\u001b[39m.\u001b[39;49msample(target_accept\u001b[39m=\u001b[39;49m\u001b[39m0.95\u001b[39;49m, random_seed\u001b[39m=\u001b[39;49m\u001b[39m42\u001b[39;49m, return_inferencedata\u001b[39m=\u001b[39;49m\u001b[39mTrue\u001b[39;49;00m)\n",
      "File \u001b[0;32m/opt/miniconda3/envs/ml_env/lib/python3.8/site-packages/deprecat/classic.py:215\u001b[0m, in \u001b[0;36mdeprecat.<locals>.wrapper_function\u001b[0;34m(wrapped_, instance_, args_, kwargs_)\u001b[0m\n\u001b[1;32m    213\u001b[0m         \u001b[39melse\u001b[39;00m:\n\u001b[1;32m    214\u001b[0m             warnings\u001b[39m.\u001b[39mwarn(message, category\u001b[39m=\u001b[39mcategory, stacklevel\u001b[39m=\u001b[39m_routine_stacklevel)\n\u001b[0;32m--> 215\u001b[0m \u001b[39mreturn\u001b[39;00m wrapped_(\u001b[39m*\u001b[39;49margs_, \u001b[39m*\u001b[39;49m\u001b[39m*\u001b[39;49mkwargs_)\n",
      "File \u001b[0;32m/opt/miniconda3/envs/ml_env/lib/python3.8/site-packages/pymc3/sampling.py:575\u001b[0m, in \u001b[0;36msample\u001b[0;34m(draws, step, init, n_init, initvals, trace, chain_idx, chains, cores, tune, progressbar, model, random_seed, discard_tuned_samples, compute_convergence_checks, callback, jitter_max_retries, start, return_inferencedata, idata_kwargs, mp_ctx, pickle_backend, **kwargs)\u001b[0m\n\u001b[1;32m    573\u001b[0m _print_step_hierarchy(step)\n\u001b[1;32m    574\u001b[0m \u001b[39mtry\u001b[39;00m:\n\u001b[0;32m--> 575\u001b[0m     trace \u001b[39m=\u001b[39m _mp_sample(\u001b[39m*\u001b[39;49m\u001b[39m*\u001b[39;49msample_args, \u001b[39m*\u001b[39;49m\u001b[39m*\u001b[39;49mparallel_args)\n\u001b[1;32m    576\u001b[0m \u001b[39mexcept\u001b[39;00m pickle\u001b[39m.\u001b[39mPickleError:\n\u001b[1;32m    577\u001b[0m     _log\u001b[39m.\u001b[39mwarning(\u001b[39m\"\u001b[39m\u001b[39mCould not pickle model, sampling singlethreaded.\u001b[39m\u001b[39m\"\u001b[39m)\n",
      "File \u001b[0;32m/opt/miniconda3/envs/ml_env/lib/python3.8/site-packages/pymc3/sampling.py:1522\u001b[0m, in \u001b[0;36m_mp_sample\u001b[0;34m(draws, tune, step, chains, cores, chain, random_seed, start, progressbar, trace, model, callback, discard_tuned_samples, mp_ctx, pickle_backend, **kwargs)\u001b[0m\n\u001b[1;32m   1520\u001b[0m \u001b[39mexcept\u001b[39;00m \u001b[39mKeyboardInterrupt\u001b[39;00m:\n\u001b[1;32m   1521\u001b[0m     \u001b[39mif\u001b[39;00m discard_tuned_samples:\n\u001b[0;32m-> 1522\u001b[0m         traces, length \u001b[39m=\u001b[39m _choose_chains(traces, tune)\n\u001b[1;32m   1523\u001b[0m     \u001b[39melse\u001b[39;00m:\n\u001b[1;32m   1524\u001b[0m         traces, length \u001b[39m=\u001b[39m _choose_chains(traces, \u001b[39m0\u001b[39m)\n",
      "File \u001b[0;32m/opt/miniconda3/envs/ml_env/lib/python3.8/site-packages/pymc3/sampling.py:1548\u001b[0m, in \u001b[0;36m_choose_chains\u001b[0;34m(traces, tune)\u001b[0m\n\u001b[1;32m   1546\u001b[0m lengths \u001b[39m=\u001b[39m [\u001b[39mmax\u001b[39m(\u001b[39m0\u001b[39m, \u001b[39mlen\u001b[39m(trace) \u001b[39m-\u001b[39m tune) \u001b[39mfor\u001b[39;00m trace \u001b[39min\u001b[39;00m traces]\n\u001b[1;32m   1547\u001b[0m \u001b[39mif\u001b[39;00m \u001b[39mnot\u001b[39;00m \u001b[39msum\u001b[39m(lengths):\n\u001b[0;32m-> 1548\u001b[0m     \u001b[39mraise\u001b[39;00m \u001b[39mValueError\u001b[39;00m(\u001b[39m\"\u001b[39m\u001b[39mNot enough samples to build a trace.\u001b[39m\u001b[39m\"\u001b[39m)\n\u001b[1;32m   1550\u001b[0m idxs \u001b[39m=\u001b[39m np\u001b[39m.\u001b[39margsort(lengths)\n\u001b[1;32m   1551\u001b[0m l_sort \u001b[39m=\u001b[39m np\u001b[39m.\u001b[39marray(lengths)[idxs]\n",
      "\u001b[0;31mValueError\u001b[0m: Not enough samples to build a trace."
     ]
    }
   ],
   "source": [
    "with hierarchical_model:\n",
    "    hierarchical_trace = pm.sample(target_accept=0.95, random_seed=42, return_inferencedata=True)"
   ]
  },
  {
   "cell_type": "code",
   "execution_count": null,
   "metadata": {},
   "outputs": [],
   "source": [
    "import pickle\n",
    "\n",
    "with open('model.pickle', 'wb') as f:\n",
    "    pickle.dump(hierarchical_model, f)\n",
    "    \n",
    "with open('hierarchical_trace.pickle', 'wb') as f:\n",
    "    pickle.dump(hierarchical_trace, f)"
   ]
  },
  {
   "cell_type": "code",
   "execution_count": null,
   "metadata": {},
   "outputs": [],
   "source": []
  }
 ],
 "metadata": {
  "kernelspec": {
   "display_name": "ml_env",
   "language": "python",
   "name": "python3"
  },
  "language_info": {
   "codemirror_mode": {
    "name": "ipython",
    "version": 3
   },
   "file_extension": ".py",
   "mimetype": "text/x-python",
   "name": "python",
   "nbconvert_exporter": "python",
   "pygments_lexer": "ipython3",
   "version": "3.8.15"
  },
  "orig_nbformat": 4,
  "vscode": {
   "interpreter": {
    "hash": "c5adb9b23f0db5198ad49ebc7528f71124eca3166c02a87711bfeed9aa94960d"
   }
  }
 },
 "nbformat": 4,
 "nbformat_minor": 2
}
