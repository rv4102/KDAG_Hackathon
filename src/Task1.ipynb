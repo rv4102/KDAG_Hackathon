{
 "cells": [
  {
   "cell_type": "code",
   "execution_count": 14,
   "metadata": {},
   "outputs": [],
   "source": [
    "import pandas as pd\n",
    "import numpy as np\n",
    "import matplotlib.pyplot as plt\n",
    "import seaborn as sns"
   ]
  },
  {
   "cell_type": "code",
   "execution_count": 15,
   "metadata": {},
   "outputs": [],
   "source": [
    "data = pd.read_excel(\"../HCP_Data_KDAG_Hackathon.xlsx\")"
   ]
  },
  {
   "cell_type": "code",
   "execution_count": 13,
   "metadata": {},
   "outputs": [
    {
     "data": {
      "text/html": [
       "<div>\n",
       "<style scoped>\n",
       "    .dataframe tbody tr th:only-of-type {\n",
       "        vertical-align: middle;\n",
       "    }\n",
       "\n",
       "    .dataframe tbody tr th {\n",
       "        vertical-align: top;\n",
       "    }\n",
       "\n",
       "    .dataframe thead th {\n",
       "        text-align: right;\n",
       "    }\n",
       "</style>\n",
       "<table border=\"1\" class=\"dataframe\">\n",
       "  <thead>\n",
       "    <tr style=\"text-align: right;\">\n",
       "      <th></th>\n",
       "      <th>Physician_ID</th>\n",
       "      <th>Time_Period</th>\n",
       "      <th>Brand_Rx</th>\n",
       "      <th>Market_Rx</th>\n",
       "      <th>Sales_Rep_Calls</th>\n",
       "      <th>Samples_Dropped</th>\n",
       "      <th>Physician_Segment</th>\n",
       "      <th>Emails_Delivered</th>\n",
       "      <th>Speaker_Programs_Attended</th>\n",
       "      <th>Vouchers_Dropped</th>\n",
       "      <th>Specialty</th>\n",
       "    </tr>\n",
       "  </thead>\n",
       "  <tbody>\n",
       "    <tr>\n",
       "      <th>14478</th>\n",
       "      <td>axt00255</td>\n",
       "      <td>20190104</td>\n",
       "      <td>0.000</td>\n",
       "      <td>0.00000</td>\n",
       "      <td>0</td>\n",
       "      <td>0</td>\n",
       "      <td>2-Medium</td>\n",
       "      <td>0</td>\n",
       "      <td>0</td>\n",
       "      <td>0</td>\n",
       "      <td>General Physician</td>\n",
       "    </tr>\n",
       "    <tr>\n",
       "      <th>14479</th>\n",
       "      <td>axt00255</td>\n",
       "      <td>20190111</td>\n",
       "      <td>0.000</td>\n",
       "      <td>0.00000</td>\n",
       "      <td>0</td>\n",
       "      <td>0</td>\n",
       "      <td>2-Medium</td>\n",
       "      <td>0</td>\n",
       "      <td>0</td>\n",
       "      <td>0</td>\n",
       "      <td>General Physician</td>\n",
       "    </tr>\n",
       "    <tr>\n",
       "      <th>14480</th>\n",
       "      <td>axt00255</td>\n",
       "      <td>20190118</td>\n",
       "      <td>0.000</td>\n",
       "      <td>0.00000</td>\n",
       "      <td>0</td>\n",
       "      <td>0</td>\n",
       "      <td>2-Medium</td>\n",
       "      <td>0</td>\n",
       "      <td>0</td>\n",
       "      <td>0</td>\n",
       "      <td>General Physician</td>\n",
       "    </tr>\n",
       "    <tr>\n",
       "      <th>14481</th>\n",
       "      <td>axt00255</td>\n",
       "      <td>20190125</td>\n",
       "      <td>0.000</td>\n",
       "      <td>0.00000</td>\n",
       "      <td>0</td>\n",
       "      <td>0</td>\n",
       "      <td>2-Medium</td>\n",
       "      <td>0</td>\n",
       "      <td>0</td>\n",
       "      <td>0</td>\n",
       "      <td>General Physician</td>\n",
       "    </tr>\n",
       "    <tr>\n",
       "      <th>14482</th>\n",
       "      <td>axt00255</td>\n",
       "      <td>20190201</td>\n",
       "      <td>0.000</td>\n",
       "      <td>0.00000</td>\n",
       "      <td>0</td>\n",
       "      <td>0</td>\n",
       "      <td>2-Medium</td>\n",
       "      <td>0</td>\n",
       "      <td>0</td>\n",
       "      <td>0</td>\n",
       "      <td>General Physician</td>\n",
       "    </tr>\n",
       "    <tr>\n",
       "      <th>...</th>\n",
       "      <td>...</td>\n",
       "      <td>...</td>\n",
       "      <td>...</td>\n",
       "      <td>...</td>\n",
       "      <td>...</td>\n",
       "      <td>...</td>\n",
       "      <td>...</td>\n",
       "      <td>...</td>\n",
       "      <td>...</td>\n",
       "      <td>...</td>\n",
       "      <td>...</td>\n",
       "    </tr>\n",
       "    <tr>\n",
       "      <th>569197</th>\n",
       "      <td>axt09986</td>\n",
       "      <td>20200103</td>\n",
       "      <td>2.013</td>\n",
       "      <td>5.41497</td>\n",
       "      <td>0</td>\n",
       "      <td>0</td>\n",
       "      <td>2-Medium</td>\n",
       "      <td>0</td>\n",
       "      <td>0</td>\n",
       "      <td>0</td>\n",
       "      <td>General Physician</td>\n",
       "    </tr>\n",
       "    <tr>\n",
       "      <th>569198</th>\n",
       "      <td>axt09986</td>\n",
       "      <td>20200110</td>\n",
       "      <td>2.025</td>\n",
       "      <td>20.59464</td>\n",
       "      <td>1</td>\n",
       "      <td>6</td>\n",
       "      <td>2-Medium</td>\n",
       "      <td>0</td>\n",
       "      <td>0</td>\n",
       "      <td>0</td>\n",
       "      <td>General Physician</td>\n",
       "    </tr>\n",
       "    <tr>\n",
       "      <th>569199</th>\n",
       "      <td>axt09986</td>\n",
       "      <td>20200117</td>\n",
       "      <td>2.007</td>\n",
       "      <td>11.01017</td>\n",
       "      <td>1</td>\n",
       "      <td>0</td>\n",
       "      <td>2-Medium</td>\n",
       "      <td>0</td>\n",
       "      <td>0</td>\n",
       "      <td>0</td>\n",
       "      <td>General Physician</td>\n",
       "    </tr>\n",
       "    <tr>\n",
       "      <th>569200</th>\n",
       "      <td>axt09986</td>\n",
       "      <td>20200124</td>\n",
       "      <td>0.000</td>\n",
       "      <td>8.28520</td>\n",
       "      <td>1</td>\n",
       "      <td>0</td>\n",
       "      <td>2-Medium</td>\n",
       "      <td>0</td>\n",
       "      <td>0</td>\n",
       "      <td>0</td>\n",
       "      <td>General Physician</td>\n",
       "    </tr>\n",
       "    <tr>\n",
       "      <th>569201</th>\n",
       "      <td>axt09986</td>\n",
       "      <td>20200131</td>\n",
       "      <td>1.922</td>\n",
       "      <td>10.87567</td>\n",
       "      <td>1</td>\n",
       "      <td>0</td>\n",
       "      <td>2-Medium</td>\n",
       "      <td>0</td>\n",
       "      <td>0</td>\n",
       "      <td>0</td>\n",
       "      <td>General Physician</td>\n",
       "    </tr>\n",
       "  </tbody>\n",
       "</table>\n",
       "<p>56202 rows × 11 columns</p>\n",
       "</div>"
      ],
      "text/plain": [
       "       Physician_ID  Time_Period  Brand_Rx  Market_Rx  Sales_Rep_Calls  \\\n",
       "14478      axt00255     20190104     0.000    0.00000                0   \n",
       "14479      axt00255     20190111     0.000    0.00000                0   \n",
       "14480      axt00255     20190118     0.000    0.00000                0   \n",
       "14481      axt00255     20190125     0.000    0.00000                0   \n",
       "14482      axt00255     20190201     0.000    0.00000                0   \n",
       "...             ...          ...       ...        ...              ...   \n",
       "569197     axt09986     20200103     2.013    5.41497                0   \n",
       "569198     axt09986     20200110     2.025   20.59464                1   \n",
       "569199     axt09986     20200117     2.007   11.01017                1   \n",
       "569200     axt09986     20200124     0.000    8.28520                1   \n",
       "569201     axt09986     20200131     1.922   10.87567                1   \n",
       "\n",
       "        Samples_Dropped Physician_Segment  Emails_Delivered  \\\n",
       "14478                 0          2-Medium                 0   \n",
       "14479                 0          2-Medium                 0   \n",
       "14480                 0          2-Medium                 0   \n",
       "14481                 0          2-Medium                 0   \n",
       "14482                 0          2-Medium                 0   \n",
       "...                 ...               ...               ...   \n",
       "569197                0          2-Medium                 0   \n",
       "569198                6          2-Medium                 0   \n",
       "569199                0          2-Medium                 0   \n",
       "569200                0          2-Medium                 0   \n",
       "569201                0          2-Medium                 0   \n",
       "\n",
       "        Speaker_Programs_Attended  Vouchers_Dropped          Specialty  \n",
       "14478                           0                 0  General Physician  \n",
       "14479                           0                 0  General Physician  \n",
       "14480                           0                 0  General Physician  \n",
       "14481                           0                 0  General Physician  \n",
       "14482                           0                 0  General Physician  \n",
       "...                           ...               ...                ...  \n",
       "569197                          0                 0  General Physician  \n",
       "569198                          0                 0  General Physician  \n",
       "569199                          0                 0  General Physician  \n",
       "569200                          0                 0  General Physician  \n",
       "569201                          0                 0  General Physician  \n",
       "\n",
       "[56202 rows x 11 columns]"
      ]
     },
     "execution_count": 13,
     "metadata": {},
     "output_type": "execute_result"
    }
   ],
   "source": [
    "df[(df['Physician_Segment'] == '2-Medium') & (df['Specialty'] == 'General Physician')]"
   ]
  },
  {
   "cell_type": "code",
   "execution_count": 4,
   "metadata": {},
   "outputs": [
    {
     "data": {
      "text/html": [
       "<div>\n",
       "<style scoped>\n",
       "    .dataframe tbody tr th:only-of-type {\n",
       "        vertical-align: middle;\n",
       "    }\n",
       "\n",
       "    .dataframe tbody tr th {\n",
       "        vertical-align: top;\n",
       "    }\n",
       "\n",
       "    .dataframe thead th {\n",
       "        text-align: right;\n",
       "    }\n",
       "</style>\n",
       "<table border=\"1\" class=\"dataframe\">\n",
       "  <thead>\n",
       "    <tr style=\"text-align: right;\">\n",
       "      <th></th>\n",
       "      <th>Physician_ID</th>\n",
       "      <th>Time_Period</th>\n",
       "      <th>Brand_Rx</th>\n",
       "      <th>Market_Rx</th>\n",
       "      <th>Sales_Rep_Calls</th>\n",
       "      <th>Samples_Dropped</th>\n",
       "      <th>Physician_Segment</th>\n",
       "      <th>Emails_Delivered</th>\n",
       "      <th>Speaker_Programs_Attended</th>\n",
       "      <th>Vouchers_Dropped</th>\n",
       "      <th>Specialty</th>\n",
       "    </tr>\n",
       "  </thead>\n",
       "  <tbody>\n",
       "    <tr>\n",
       "      <th>0</th>\n",
       "      <td>axt00001</td>\n",
       "      <td>20190104</td>\n",
       "      <td>0.0</td>\n",
       "      <td>2.80567</td>\n",
       "      <td>1</td>\n",
       "      <td>0</td>\n",
       "      <td>3-Low</td>\n",
       "      <td>0</td>\n",
       "      <td>0</td>\n",
       "      <td>0</td>\n",
       "      <td>Dermatologist</td>\n",
       "    </tr>\n",
       "    <tr>\n",
       "      <th>1</th>\n",
       "      <td>axt00001</td>\n",
       "      <td>20190111</td>\n",
       "      <td>0.0</td>\n",
       "      <td>20.57312</td>\n",
       "      <td>1</td>\n",
       "      <td>0</td>\n",
       "      <td>3-Low</td>\n",
       "      <td>0</td>\n",
       "      <td>0</td>\n",
       "      <td>0</td>\n",
       "      <td>Dermatologist</td>\n",
       "    </tr>\n",
       "    <tr>\n",
       "      <th>2</th>\n",
       "      <td>axt00001</td>\n",
       "      <td>20190118</td>\n",
       "      <td>0.0</td>\n",
       "      <td>6.16010</td>\n",
       "      <td>1</td>\n",
       "      <td>0</td>\n",
       "      <td>3-Low</td>\n",
       "      <td>0</td>\n",
       "      <td>0</td>\n",
       "      <td>0</td>\n",
       "      <td>Dermatologist</td>\n",
       "    </tr>\n",
       "    <tr>\n",
       "      <th>3</th>\n",
       "      <td>axt00001</td>\n",
       "      <td>20190125</td>\n",
       "      <td>0.0</td>\n",
       "      <td>8.95501</td>\n",
       "      <td>1</td>\n",
       "      <td>5</td>\n",
       "      <td>3-Low</td>\n",
       "      <td>0</td>\n",
       "      <td>0</td>\n",
       "      <td>0</td>\n",
       "      <td>Dermatologist</td>\n",
       "    </tr>\n",
       "    <tr>\n",
       "      <th>4</th>\n",
       "      <td>axt00001</td>\n",
       "      <td>20190201</td>\n",
       "      <td>0.0</td>\n",
       "      <td>9.13793</td>\n",
       "      <td>1</td>\n",
       "      <td>0</td>\n",
       "      <td>3-Low</td>\n",
       "      <td>0</td>\n",
       "      <td>0</td>\n",
       "      <td>0</td>\n",
       "      <td>Dermatologist</td>\n",
       "    </tr>\n",
       "  </tbody>\n",
       "</table>\n",
       "</div>"
      ],
      "text/plain": [
       "  Physician_ID  Time_Period  Brand_Rx  Market_Rx  Sales_Rep_Calls  \\\n",
       "0     axt00001     20190104       0.0    2.80567                1   \n",
       "1     axt00001     20190111       0.0   20.57312                1   \n",
       "2     axt00001     20190118       0.0    6.16010                1   \n",
       "3     axt00001     20190125       0.0    8.95501                1   \n",
       "4     axt00001     20190201       0.0    9.13793                1   \n",
       "\n",
       "   Samples_Dropped Physician_Segment  Emails_Delivered  \\\n",
       "0                0             3-Low                 0   \n",
       "1                0             3-Low                 0   \n",
       "2                0             3-Low                 0   \n",
       "3                5             3-Low                 0   \n",
       "4                0             3-Low                 0   \n",
       "\n",
       "   Speaker_Programs_Attended  Vouchers_Dropped      Specialty  \n",
       "0                          0                 0  Dermatologist  \n",
       "1                          0                 0  Dermatologist  \n",
       "2                          0                 0  Dermatologist  \n",
       "3                          0                 0  Dermatologist  \n",
       "4                          0                 0  Dermatologist  "
      ]
     },
     "execution_count": 4,
     "metadata": {},
     "output_type": "execute_result"
    }
   ],
   "source": [
    "data.head()"
   ]
  },
  {
   "cell_type": "code",
   "execution_count": 19,
   "metadata": {},
   "outputs": [
    {
     "data": {
      "text/plain": [
       "3-Low       252966\n",
       "2-Medium    187302\n",
       "1-High      129732\n",
       "Name: Physician_Segment, dtype: int64"
      ]
     },
     "execution_count": 19,
     "metadata": {},
     "output_type": "execute_result"
    }
   ],
   "source": [
    "data['Physician_Segment'].value_counts()"
   ]
  },
  {
   "cell_type": "code",
   "execution_count": 6,
   "metadata": {},
   "outputs": [
    {
     "data": {
      "text/plain": [
       "0.017659649122807018"
      ]
     },
     "execution_count": 6,
     "metadata": {},
     "output_type": "execute_result"
    }
   ],
   "source": [
    "len(data[(data['Speaker_Programs_Attended'] > 0) | (data['Vouchers_Dropped']>0)])/len(data)"
   ]
  },
  {
   "cell_type": "code",
   "execution_count": 18,
   "metadata": {},
   "outputs": [
    {
     "data": {
      "text/html": [
       "<div>\n",
       "<style scoped>\n",
       "    .dataframe tbody tr th:only-of-type {\n",
       "        vertical-align: middle;\n",
       "    }\n",
       "\n",
       "    .dataframe tbody tr th {\n",
       "        vertical-align: top;\n",
       "    }\n",
       "\n",
       "    .dataframe thead th {\n",
       "        text-align: right;\n",
       "    }\n",
       "</style>\n",
       "<table border=\"1\" class=\"dataframe\">\n",
       "  <thead>\n",
       "    <tr style=\"text-align: right;\">\n",
       "      <th></th>\n",
       "      <th>Physician_ID</th>\n",
       "      <th>Time_Period</th>\n",
       "      <th>Brand_Rx</th>\n",
       "      <th>Market_Rx</th>\n",
       "      <th>Sales_Rep_Calls</th>\n",
       "      <th>Samples_Dropped</th>\n",
       "      <th>Physician_Segment</th>\n",
       "      <th>Emails_Delivered</th>\n",
       "      <th>Speaker_Programs_Attended</th>\n",
       "      <th>Vouchers_Dropped</th>\n",
       "      <th>Specialty</th>\n",
       "    </tr>\n",
       "  </thead>\n",
       "  <tbody>\n",
       "    <tr>\n",
       "      <th>2741</th>\n",
       "      <td>axt00049</td>\n",
       "      <td>20190208</td>\n",
       "      <td>0.000</td>\n",
       "      <td>2.69269</td>\n",
       "      <td>0</td>\n",
       "      <td>0</td>\n",
       "      <td>3-Low</td>\n",
       "      <td>1</td>\n",
       "      <td>0</td>\n",
       "      <td>0</td>\n",
       "      <td>Nurse Practitioner</td>\n",
       "    </tr>\n",
       "    <tr>\n",
       "      <th>2742</th>\n",
       "      <td>axt00049</td>\n",
       "      <td>20190215</td>\n",
       "      <td>1.882</td>\n",
       "      <td>20.48435</td>\n",
       "      <td>1</td>\n",
       "      <td>0</td>\n",
       "      <td>3-Low</td>\n",
       "      <td>1</td>\n",
       "      <td>0</td>\n",
       "      <td>0</td>\n",
       "      <td>Nurse Practitioner</td>\n",
       "    </tr>\n",
       "    <tr>\n",
       "      <th>2745</th>\n",
       "      <td>axt00049</td>\n",
       "      <td>20190308</td>\n",
       "      <td>0.000</td>\n",
       "      <td>7.41902</td>\n",
       "      <td>1</td>\n",
       "      <td>0</td>\n",
       "      <td>3-Low</td>\n",
       "      <td>2</td>\n",
       "      <td>0</td>\n",
       "      <td>0</td>\n",
       "      <td>Nurse Practitioner</td>\n",
       "    </tr>\n",
       "    <tr>\n",
       "      <th>2746</th>\n",
       "      <td>axt00049</td>\n",
       "      <td>20190315</td>\n",
       "      <td>1.008</td>\n",
       "      <td>5.05989</td>\n",
       "      <td>1</td>\n",
       "      <td>0</td>\n",
       "      <td>3-Low</td>\n",
       "      <td>2</td>\n",
       "      <td>0</td>\n",
       "      <td>0</td>\n",
       "      <td>Nurse Practitioner</td>\n",
       "    </tr>\n",
       "    <tr>\n",
       "      <th>2747</th>\n",
       "      <td>axt00049</td>\n",
       "      <td>20190322</td>\n",
       "      <td>0.000</td>\n",
       "      <td>14.18437</td>\n",
       "      <td>0</td>\n",
       "      <td>0</td>\n",
       "      <td>3-Low</td>\n",
       "      <td>1</td>\n",
       "      <td>0</td>\n",
       "      <td>0</td>\n",
       "      <td>Nurse Practitioner</td>\n",
       "    </tr>\n",
       "    <tr>\n",
       "      <th>...</th>\n",
       "      <td>...</td>\n",
       "      <td>...</td>\n",
       "      <td>...</td>\n",
       "      <td>...</td>\n",
       "      <td>...</td>\n",
       "      <td>...</td>\n",
       "      <td>...</td>\n",
       "      <td>...</td>\n",
       "      <td>...</td>\n",
       "      <td>...</td>\n",
       "      <td>...</td>\n",
       "    </tr>\n",
       "    <tr>\n",
       "      <th>566315</th>\n",
       "      <td>axt09936</td>\n",
       "      <td>20190524</td>\n",
       "      <td>0.000</td>\n",
       "      <td>0.00000</td>\n",
       "      <td>0</td>\n",
       "      <td>0</td>\n",
       "      <td>3-Low</td>\n",
       "      <td>1</td>\n",
       "      <td>0</td>\n",
       "      <td>0</td>\n",
       "      <td>Nurse Practitioner</td>\n",
       "    </tr>\n",
       "    <tr>\n",
       "      <th>566316</th>\n",
       "      <td>axt09936</td>\n",
       "      <td>20190531</td>\n",
       "      <td>0.000</td>\n",
       "      <td>0.00000</td>\n",
       "      <td>0</td>\n",
       "      <td>0</td>\n",
       "      <td>3-Low</td>\n",
       "      <td>1</td>\n",
       "      <td>0</td>\n",
       "      <td>0</td>\n",
       "      <td>Nurse Practitioner</td>\n",
       "    </tr>\n",
       "    <tr>\n",
       "      <th>566326</th>\n",
       "      <td>axt09936</td>\n",
       "      <td>20190809</td>\n",
       "      <td>0.000</td>\n",
       "      <td>0.00000</td>\n",
       "      <td>1</td>\n",
       "      <td>0</td>\n",
       "      <td>3-Low</td>\n",
       "      <td>2</td>\n",
       "      <td>0</td>\n",
       "      <td>0</td>\n",
       "      <td>Nurse Practitioner</td>\n",
       "    </tr>\n",
       "    <tr>\n",
       "      <th>566331</th>\n",
       "      <td>axt09936</td>\n",
       "      <td>20190913</td>\n",
       "      <td>0.000</td>\n",
       "      <td>0.00000</td>\n",
       "      <td>0</td>\n",
       "      <td>0</td>\n",
       "      <td>3-Low</td>\n",
       "      <td>1</td>\n",
       "      <td>0</td>\n",
       "      <td>0</td>\n",
       "      <td>Nurse Practitioner</td>\n",
       "    </tr>\n",
       "    <tr>\n",
       "      <th>566339</th>\n",
       "      <td>axt09936</td>\n",
       "      <td>20191108</td>\n",
       "      <td>0.000</td>\n",
       "      <td>0.00000</td>\n",
       "      <td>0</td>\n",
       "      <td>0</td>\n",
       "      <td>3-Low</td>\n",
       "      <td>1</td>\n",
       "      <td>0</td>\n",
       "      <td>0</td>\n",
       "      <td>Nurse Practitioner</td>\n",
       "    </tr>\n",
       "  </tbody>\n",
       "</table>\n",
       "<p>3755 rows × 11 columns</p>\n",
       "</div>"
      ],
      "text/plain": [
       "       Physician_ID  Time_Period  Brand_Rx  Market_Rx  Sales_Rep_Calls  \\\n",
       "2741       axt00049     20190208     0.000    2.69269                0   \n",
       "2742       axt00049     20190215     1.882   20.48435                1   \n",
       "2745       axt00049     20190308     0.000    7.41902                1   \n",
       "2746       axt00049     20190315     1.008    5.05989                1   \n",
       "2747       axt00049     20190322     0.000   14.18437                0   \n",
       "...             ...          ...       ...        ...              ...   \n",
       "566315     axt09936     20190524     0.000    0.00000                0   \n",
       "566316     axt09936     20190531     0.000    0.00000                0   \n",
       "566326     axt09936     20190809     0.000    0.00000                1   \n",
       "566331     axt09936     20190913     0.000    0.00000                0   \n",
       "566339     axt09936     20191108     0.000    0.00000                0   \n",
       "\n",
       "        Samples_Dropped Physician_Segment  Emails_Delivered  \\\n",
       "2741                  0             3-Low                 1   \n",
       "2742                  0             3-Low                 1   \n",
       "2745                  0             3-Low                 2   \n",
       "2746                  0             3-Low                 2   \n",
       "2747                  0             3-Low                 1   \n",
       "...                 ...               ...               ...   \n",
       "566315                0             3-Low                 1   \n",
       "566316                0             3-Low                 1   \n",
       "566326                0             3-Low                 2   \n",
       "566331                0             3-Low                 1   \n",
       "566339                0             3-Low                 1   \n",
       "\n",
       "        Speaker_Programs_Attended  Vouchers_Dropped           Specialty  \n",
       "2741                            0                 0  Nurse Practitioner  \n",
       "2742                            0                 0  Nurse Practitioner  \n",
       "2745                            0                 0  Nurse Practitioner  \n",
       "2746                            0                 0  Nurse Practitioner  \n",
       "2747                            0                 0  Nurse Practitioner  \n",
       "...                           ...               ...                 ...  \n",
       "566315                          0                 0  Nurse Practitioner  \n",
       "566316                          0                 0  Nurse Practitioner  \n",
       "566326                          0                 0  Nurse Practitioner  \n",
       "566331                          0                 0  Nurse Practitioner  \n",
       "566339                          0                 0  Nurse Practitioner  \n",
       "\n",
       "[3755 rows x 11 columns]"
      ]
     },
     "execution_count": 18,
     "metadata": {},
     "output_type": "execute_result"
    }
   ],
   "source": [
    "d = data[data['Specialty'] == 'Nurse Practitioner']\n",
    "d[d['Emails_Delivered']>0]"
   ]
  },
  {
   "cell_type": "code",
   "execution_count": null,
   "metadata": {},
   "outputs": [],
   "source": [
    "df = data[data['Physician_ID'] == 'axt00001']"
   ]
  },
  {
   "cell_type": "code",
   "execution_count": 11,
   "metadata": {},
   "outputs": [],
   "source": [
    "df = df.drop(['Physician_ID', 'Time_Period', 'Physician_Segment', 'Speaker_Programs_Attended', 'Vouchers_Dropped', 'Specialty'], axis = 1)"
   ]
  },
  {
   "cell_type": "code",
   "execution_count": 17,
   "metadata": {},
   "outputs": [
    {
     "data": {
      "text/html": [
       "<div>\n",
       "<style scoped>\n",
       "    .dataframe tbody tr th:only-of-type {\n",
       "        vertical-align: middle;\n",
       "    }\n",
       "\n",
       "    .dataframe tbody tr th {\n",
       "        vertical-align: top;\n",
       "    }\n",
       "\n",
       "    .dataframe thead th {\n",
       "        text-align: right;\n",
       "    }\n",
       "</style>\n",
       "<table border=\"1\" class=\"dataframe\">\n",
       "  <thead>\n",
       "    <tr style=\"text-align: right;\">\n",
       "      <th></th>\n",
       "      <th>Brand_Rx</th>\n",
       "      <th>Market_Rx</th>\n",
       "      <th>Sales_Rep_Calls</th>\n",
       "      <th>Samples_Dropped</th>\n",
       "      <th>Emails_Delivered</th>\n",
       "    </tr>\n",
       "  </thead>\n",
       "  <tbody>\n",
       "    <tr>\n",
       "      <th>0</th>\n",
       "      <td>0.0</td>\n",
       "      <td>2.80567</td>\n",
       "      <td>1</td>\n",
       "      <td>0</td>\n",
       "      <td>0</td>\n",
       "    </tr>\n",
       "    <tr>\n",
       "      <th>1</th>\n",
       "      <td>0.0</td>\n",
       "      <td>20.57312</td>\n",
       "      <td>1</td>\n",
       "      <td>0</td>\n",
       "      <td>0</td>\n",
       "    </tr>\n",
       "    <tr>\n",
       "      <th>2</th>\n",
       "      <td>0.0</td>\n",
       "      <td>6.16010</td>\n",
       "      <td>1</td>\n",
       "      <td>0</td>\n",
       "      <td>0</td>\n",
       "    </tr>\n",
       "    <tr>\n",
       "      <th>3</th>\n",
       "      <td>0.0</td>\n",
       "      <td>8.95501</td>\n",
       "      <td>1</td>\n",
       "      <td>5</td>\n",
       "      <td>0</td>\n",
       "    </tr>\n",
       "    <tr>\n",
       "      <th>4</th>\n",
       "      <td>0.0</td>\n",
       "      <td>9.13793</td>\n",
       "      <td>1</td>\n",
       "      <td>0</td>\n",
       "      <td>0</td>\n",
       "    </tr>\n",
       "  </tbody>\n",
       "</table>\n",
       "</div>"
      ],
      "text/plain": [
       "   Brand_Rx  Market_Rx  Sales_Rep_Calls  Samples_Dropped  Emails_Delivered\n",
       "0       0.0    2.80567                1                0                 0\n",
       "1       0.0   20.57312                1                0                 0\n",
       "2       0.0    6.16010                1                0                 0\n",
       "3       0.0    8.95501                1                5                 0\n",
       "4       0.0    9.13793                1                0                 0"
      ]
     },
     "execution_count": 17,
     "metadata": {},
     "output_type": "execute_result"
    }
   ],
   "source": [
    "df.head()"
   ]
  },
  {
   "cell_type": "code",
   "execution_count": 15,
   "metadata": {},
   "outputs": [],
   "source": [
    "# xgboost regressor\n",
    "from xgboost import XGBRegressor"
   ]
  },
  {
   "cell_type": "code",
   "execution_count": 34,
   "metadata": {},
   "outputs": [],
   "source": [
    "regressor = XGBRegressor()"
   ]
  },
  {
   "cell_type": "code",
   "execution_count": 16,
   "metadata": {},
   "outputs": [],
   "source": [
    "X = df.drop('Brand_Rx', axis = 1)\n",
    "y = df['Brand_Rx']"
   ]
  },
  {
   "cell_type": "code",
   "execution_count": 36,
   "metadata": {},
   "outputs": [
    {
     "data": {
      "text/plain": [
       "XGBRegressor(base_score=0.5, booster='gbtree', callbacks=None,\n",
       "             colsample_bylevel=1, colsample_bynode=1, colsample_bytree=1,\n",
       "             early_stopping_rounds=None, enable_categorical=False,\n",
       "             eval_metric=None, feature_types=None, gamma=0, gpu_id=-1,\n",
       "             grow_policy='depthwise', importance_type=None,\n",
       "             interaction_constraints='', learning_rate=0.300000012, max_bin=256,\n",
       "             max_cat_threshold=64, max_cat_to_onehot=4, max_delta_step=0,\n",
       "             max_depth=6, max_leaves=0, min_child_weight=1, missing=nan,\n",
       "             monotone_constraints='()', n_estimators=100, n_jobs=0,\n",
       "             num_parallel_tree=1, predictor='auto', random_state=0, ...)"
      ]
     },
     "execution_count": 36,
     "metadata": {},
     "output_type": "execute_result"
    }
   ],
   "source": [
    "regressor.fit(X, y)"
   ]
  },
  {
   "cell_type": "code",
   "execution_count": 51,
   "metadata": {},
   "outputs": [
    {
     "data": {
      "text/plain": [
       "array(['Market_Rx', 'Sales_Rep_Calls', 'Samples_Dropped',\n",
       "       'Emails_Delivered'], dtype='<U16')"
      ]
     },
     "execution_count": 51,
     "metadata": {},
     "output_type": "execute_result"
    }
   ],
   "source": [
    "regressor.feature_names_in_"
   ]
  },
  {
   "cell_type": "code",
   "execution_count": 48,
   "metadata": {},
   "outputs": [
    {
     "data": {
      "text/plain": [
       "array([0.254423  , 0.09616681, 0.11811881, 0.5312914 ], dtype=float32)"
      ]
     },
     "execution_count": 48,
     "metadata": {},
     "output_type": "execute_result"
    }
   ],
   "source": [
    "regressor.feature_importances_\n"
   ]
  },
  {
   "cell_type": "code",
   "execution_count": 17,
   "metadata": {},
   "outputs": [],
   "source": [
    "# lgbm regressor\n",
    "import lightgbm as lgb\n"
   ]
  },
  {
   "cell_type": "code",
   "execution_count": 46,
   "metadata": {},
   "outputs": [
    {
     "data": {
      "text/plain": [
       "LGBMRegressor()"
      ]
     },
     "execution_count": 46,
     "metadata": {},
     "output_type": "execute_result"
    }
   ],
   "source": [
    "lgbm = lgb.LGBMRegressor()\n",
    "lgbm.fit(X, y)"
   ]
  },
  {
   "cell_type": "code",
   "execution_count": 63,
   "metadata": {},
   "outputs": [
    {
     "data": {
      "text/plain": [
       "array([67, 15,  0, 18], dtype=int32)"
      ]
     },
     "execution_count": 63,
     "metadata": {},
     "output_type": "execute_result"
    }
   ],
   "source": [
    "lgbm.feature_importances_"
   ]
  },
  {
   "cell_type": "code",
   "execution_count": 62,
   "metadata": {},
   "outputs": [
    {
     "data": {
      "text/plain": [
       "2"
      ]
     },
     "execution_count": 62,
     "metadata": {},
     "output_type": "execute_result"
    }
   ],
   "source": [
    "# get feature importance\n",
    "lgbm.feature_importances_[1: ].argmax()"
   ]
  },
  {
   "cell_type": "code",
   "execution_count": 57,
   "metadata": {},
   "outputs": [
    {
     "data": {
      "text/plain": [
       "['Market_Rx', 'Sales_Rep_Calls', 'Samples_Dropped', 'Emails_Delivered']"
      ]
     },
     "execution_count": 57,
     "metadata": {},
     "output_type": "execute_result"
    }
   ],
   "source": [
    "lgbm.feature_name_"
   ]
  },
  {
   "cell_type": "code",
   "execution_count": 18,
   "metadata": {},
   "outputs": [],
   "source": [
    "pid = data['Physician_ID'].unique()"
   ]
  },
  {
   "cell_type": "code",
   "execution_count": 19,
   "metadata": {},
   "outputs": [],
   "source": [
    "pid.sort()"
   ]
  },
  {
   "cell_type": "code",
   "execution_count": 21,
   "metadata": {},
   "outputs": [],
   "source": [
    "promotion = []\n",
    "feat_imp = []\n",
    "for id in pid:\n",
    "    df = data[data['Physician_ID'] == id]\n",
    "    df = df.drop(['Physician_ID', 'Time_Period', 'Physician_Segment', 'Speaker_Programs_Attended', 'Vouchers_Dropped', 'Specialty', 'Market_Rx'], axis = 1)\n",
    "    X = df.drop('Brand_Rx', axis = 1)\n",
    "    y = df['Brand_Rx']\n",
    "    lgbm = lgb.LGBMRegressor()\n",
    "    lgbm.fit(X, y)\n",
    "    feat_imp.append(lgbm.feature_importances_)\n",
    "    promotion.append(lgbm.feature_importances_.argmax())"
   ]
  },
  {
   "cell_type": "code",
   "execution_count": 25,
   "metadata": {},
   "outputs": [
    {
     "data": {
      "text/html": [
       "<div>\n",
       "<style scoped>\n",
       "    .dataframe tbody tr th:only-of-type {\n",
       "        vertical-align: middle;\n",
       "    }\n",
       "\n",
       "    .dataframe tbody tr th {\n",
       "        vertical-align: top;\n",
       "    }\n",
       "\n",
       "    .dataframe thead th {\n",
       "        text-align: right;\n",
       "    }\n",
       "</style>\n",
       "<table border=\"1\" class=\"dataframe\">\n",
       "  <thead>\n",
       "    <tr style=\"text-align: right;\">\n",
       "      <th></th>\n",
       "      <th>Sales_Rep_Calls</th>\n",
       "      <th>Samples_Dropped</th>\n",
       "      <th>Emails_Delivered</th>\n",
       "    </tr>\n",
       "  </thead>\n",
       "  <tbody>\n",
       "    <tr>\n",
       "      <th>0</th>\n",
       "      <td>1</td>\n",
       "      <td>0</td>\n",
       "      <td>0</td>\n",
       "    </tr>\n",
       "    <tr>\n",
       "      <th>1</th>\n",
       "      <td>1</td>\n",
       "      <td>0</td>\n",
       "      <td>0</td>\n",
       "    </tr>\n",
       "    <tr>\n",
       "      <th>2</th>\n",
       "      <td>1</td>\n",
       "      <td>0</td>\n",
       "      <td>0</td>\n",
       "    </tr>\n",
       "    <tr>\n",
       "      <th>3</th>\n",
       "      <td>1</td>\n",
       "      <td>5</td>\n",
       "      <td>0</td>\n",
       "    </tr>\n",
       "    <tr>\n",
       "      <th>4</th>\n",
       "      <td>1</td>\n",
       "      <td>0</td>\n",
       "      <td>0</td>\n",
       "    </tr>\n",
       "  </tbody>\n",
       "</table>\n",
       "</div>"
      ],
      "text/plain": [
       "   Sales_Rep_Calls  Samples_Dropped  Emails_Delivered\n",
       "0                1                0                 0\n",
       "1                1                0                 0\n",
       "2                1                0                 0\n",
       "3                1                5                 0\n",
       "4                1                0                 0"
      ]
     },
     "execution_count": 25,
     "metadata": {},
     "output_type": "execute_result"
    }
   ],
   "source": [
    "df = data[data['Physician_ID'] == 'axt00001']\n",
    "df = df.drop(['Physician_ID', 'Time_Period', 'Physician_Segment', 'Speaker_Programs_Attended', 'Vouchers_Dropped', 'Specialty', 'Market_Rx'], axis = 1)\n",
    "X = df.drop('Brand_Rx', axis = 1)\n",
    "y = df['Brand_Rx']\n",
    "X.head()"
   ]
  },
  {
   "cell_type": "code",
   "execution_count": 29,
   "metadata": {},
   "outputs": [
    {
     "data": {
      "text/plain": [
       "{'Sales Rep Call': 216731, 'Samples Dropped': 75688, 'Emails Delivered': 80781}"
      ]
     },
     "execution_count": 29,
     "metadata": {},
     "output_type": "execute_result"
    }
   ],
   "source": [
    "feat_mean = {'Sales Rep Call': 0, 'Samples Dropped': 0, 'Emails Delivered': 0}\n",
    "for arr in feat_imp:\n",
    "    feat_mean['Sales Rep Call'] += arr[0]\n",
    "    feat_mean['Samples Dropped'] += arr[1]\n",
    "    feat_mean['Emails Delivered'] += arr[2]\n",
    "feat_mean"
   ]
  },
  {
   "cell_type": "code",
   "execution_count": 31,
   "metadata": {},
   "outputs": [],
   "source": [
    "feat_mean = np.mean(feat_imp, axis = 0)"
   ]
  },
  {
   "cell_type": "code",
   "execution_count": 50,
   "metadata": {},
   "outputs": [
    {
     "data": {
      "image/png": "[encoded data removed]",
      "text/plain": [
       "<Figure size 500x500 with 1 Axes>"
      ]
     },
     "metadata": {},
     "output_type": "display_data"
    }
   ],
   "source": [
    "# sns plot horizontal bar mean feature importance for each feature\n",
    "plt.figure(figsize = (5, 5))\n",
    "sns.barplot(y = feat_mean, x = ['Sales Rep Call', 'Samples Dropped', 'Emails Delivered'])\n",
    "# set title\n",
    "plt.title('Mean Feature Importance for Each Feature')\n",
    "# save plot\n",
    "plt.savefig('feature_importance.png')"
   ]
  },
  {
   "cell_type": "code",
   "execution_count": 22,
   "metadata": {},
   "outputs": [
    {
     "data": {
      "text/html": [
       "<div>\n",
       "<style scoped>\n",
       "    .dataframe tbody tr th:only-of-type {\n",
       "        vertical-align: middle;\n",
       "    }\n",
       "\n",
       "    .dataframe tbody tr th {\n",
       "        vertical-align: top;\n",
       "    }\n",
       "\n",
       "    .dataframe thead th {\n",
       "        text-align: right;\n",
       "    }\n",
       "</style>\n",
       "<table border=\"1\" class=\"dataframe\">\n",
       "  <thead>\n",
       "    <tr style=\"text-align: right;\">\n",
       "      <th></th>\n",
       "      <th>Physician_ID</th>\n",
       "      <th>Channel</th>\n",
       "    </tr>\n",
       "  </thead>\n",
       "  <tbody>\n",
       "    <tr>\n",
       "      <th>0</th>\n",
       "      <td>axt00001</td>\n",
       "      <td>0</td>\n",
       "    </tr>\n",
       "    <tr>\n",
       "      <th>1</th>\n",
       "      <td>axt00002</td>\n",
       "      <td>0</td>\n",
       "    </tr>\n",
       "    <tr>\n",
       "      <th>2</th>\n",
       "      <td>axt00003</td>\n",
       "      <td>0</td>\n",
       "    </tr>\n",
       "    <tr>\n",
       "      <th>3</th>\n",
       "      <td>axt00004</td>\n",
       "      <td>0</td>\n",
       "    </tr>\n",
       "    <tr>\n",
       "      <th>4</th>\n",
       "      <td>axt00005</td>\n",
       "      <td>0</td>\n",
       "    </tr>\n",
       "  </tbody>\n",
       "</table>\n",
       "</div>"
      ],
      "text/plain": [
       "  Physician_ID  Channel\n",
       "0     axt00001        0\n",
       "1     axt00002        0\n",
       "2     axt00003        0\n",
       "3     axt00004        0\n",
       "4     axt00005        0"
      ]
     },
     "execution_count": 22,
     "metadata": {},
     "output_type": "execute_result"
    }
   ],
   "source": [
    "res = pd.DataFrame({'Physician_ID': pid, 'Channel': promotion})\n",
    "res.head()"
   ]
  },
  {
   "cell_type": "code",
   "execution_count": 23,
   "metadata": {},
   "outputs": [
    {
     "data": {
      "text/plain": [
       "0    8469\n",
       "1     781\n",
       "2     750\n",
       "Name: Channel, dtype: int64"
      ]
     },
     "execution_count": 23,
     "metadata": {},
     "output_type": "execute_result"
    }
   ],
   "source": [
    "res['Channel'].value_counts()"
   ]
  },
  {
   "cell_type": "code",
   "execution_count": 83,
   "metadata": {},
   "outputs": [],
   "source": [
    "res.to_csv('submission2.csv', index = False)"
   ]
  }
 ],
 "metadata": {
  "kernelspec": {
   "display_name": "ml_env",
   "language": "python",
   "name": "python3"
  },
  "language_info": {
   "codemirror_mode": {
    "name": "ipython",
    "version": 3
   },
   "file_extension": ".py",
   "mimetype": "text/x-python",
   "name": "python",
   "nbconvert_exporter": "python",
   "pygments_lexer": "ipython3",
   "version": "3.8.15 (default, Nov 10 2022, 13:14:48) \n[Clang 14.0.6 ]"
  },
  "orig_nbformat": 4,
  "vscode": {
   "interpreter": {
    "hash": "c5adb9b23f0db5198ad49ebc7528f71124eca3166c02a87711bfeed9aa94960d"
   }
  }
 },
 "nbformat": 4,
 "nbformat_minor": 2
}
