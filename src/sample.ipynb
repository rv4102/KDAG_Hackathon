{
 "cells": [
  {
   "cell_type": "code",
   "execution_count": 2,
   "metadata": {},
   "outputs": [],
   "source": [
    "import pandas as pd\n",
    "import numpy as np\n",
    "import matplotlib.pyplot as plt\n",
    "import seaborn as sns"
   ]
  },
  {
   "cell_type": "code",
   "execution_count": 3,
   "metadata": {},
   "outputs": [],
   "source": [
    "data = pd.read_excel(\"HCP_Data_KDAG_Hackathon/HCP_Data_KDAG_Hackathon.xlsx\")"
   ]
  },
  {
   "cell_type": "code",
   "execution_count": 4,
   "metadata": {},
   "outputs": [
    {
     "data": {
      "text/html": [
       "<div>\n",
       "<style scoped>\n",
       "    .dataframe tbody tr th:only-of-type {\n",
       "        vertical-align: middle;\n",
       "    }\n",
       "\n",
       "    .dataframe tbody tr th {\n",
       "        vertical-align: top;\n",
       "    }\n",
       "\n",
       "    .dataframe thead th {\n",
       "        text-align: right;\n",
       "    }\n",
       "</style>\n",
       "<table border=\"1\" class=\"dataframe\">\n",
       "  <thead>\n",
       "    <tr style=\"text-align: right;\">\n",
       "      <th></th>\n",
       "      <th>Physician_ID</th>\n",
       "      <th>Time_Period</th>\n",
       "      <th>Brand_Rx</th>\n",
       "      <th>Market_Rx</th>\n",
       "      <th>Sales_Rep_Calls</th>\n",
       "      <th>Samples_Dropped</th>\n",
       "      <th>Physician_Segment</th>\n",
       "      <th>Emails_Delivered</th>\n",
       "      <th>Speaker_Programs_Attended</th>\n",
       "      <th>Vouchers_Dropped</th>\n",
       "      <th>Specialty</th>\n",
       "    </tr>\n",
       "  </thead>\n",
       "  <tbody>\n",
       "    <tr>\n",
       "      <th>0</th>\n",
       "      <td>axt00001</td>\n",
       "      <td>20190104</td>\n",
       "      <td>0.0</td>\n",
       "      <td>2.80567</td>\n",
       "      <td>1</td>\n",
       "      <td>0</td>\n",
       "      <td>3-Low</td>\n",
       "      <td>0</td>\n",
       "      <td>0</td>\n",
       "      <td>0</td>\n",
       "      <td>Dermatologist</td>\n",
       "    </tr>\n",
       "    <tr>\n",
       "      <th>1</th>\n",
       "      <td>axt00001</td>\n",
       "      <td>20190111</td>\n",
       "      <td>0.0</td>\n",
       "      <td>20.57312</td>\n",
       "      <td>1</td>\n",
       "      <td>0</td>\n",
       "      <td>3-Low</td>\n",
       "      <td>0</td>\n",
       "      <td>0</td>\n",
       "      <td>0</td>\n",
       "      <td>Dermatologist</td>\n",
       "    </tr>\n",
       "    <tr>\n",
       "      <th>2</th>\n",
       "      <td>axt00001</td>\n",
       "      <td>20190118</td>\n",
       "      <td>0.0</td>\n",
       "      <td>6.16010</td>\n",
       "      <td>1</td>\n",
       "      <td>0</td>\n",
       "      <td>3-Low</td>\n",
       "      <td>0</td>\n",
       "      <td>0</td>\n",
       "      <td>0</td>\n",
       "      <td>Dermatologist</td>\n",
       "    </tr>\n",
       "    <tr>\n",
       "      <th>3</th>\n",
       "      <td>axt00001</td>\n",
       "      <td>20190125</td>\n",
       "      <td>0.0</td>\n",
       "      <td>8.95501</td>\n",
       "      <td>1</td>\n",
       "      <td>5</td>\n",
       "      <td>3-Low</td>\n",
       "      <td>0</td>\n",
       "      <td>0</td>\n",
       "      <td>0</td>\n",
       "      <td>Dermatologist</td>\n",
       "    </tr>\n",
       "    <tr>\n",
       "      <th>4</th>\n",
       "      <td>axt00001</td>\n",
       "      <td>20190201</td>\n",
       "      <td>0.0</td>\n",
       "      <td>9.13793</td>\n",
       "      <td>1</td>\n",
       "      <td>0</td>\n",
       "      <td>3-Low</td>\n",
       "      <td>0</td>\n",
       "      <td>0</td>\n",
       "      <td>0</td>\n",
       "      <td>Dermatologist</td>\n",
       "    </tr>\n",
       "  </tbody>\n",
       "</table>\n",
       "</div>"
      ],
      "text/plain": [
       "  Physician_ID  Time_Period  Brand_Rx  Market_Rx  Sales_Rep_Calls  \\\n",
       "0     axt00001     20190104       0.0    2.80567                1   \n",
       "1     axt00001     20190111       0.0   20.57312                1   \n",
       "2     axt00001     20190118       0.0    6.16010                1   \n",
       "3     axt00001     20190125       0.0    8.95501                1   \n",
       "4     axt00001     20190201       0.0    9.13793                1   \n",
       "\n",
       "   Samples_Dropped Physician_Segment  Emails_Delivered  \\\n",
       "0                0             3-Low                 0   \n",
       "1                0             3-Low                 0   \n",
       "2                0             3-Low                 0   \n",
       "3                5             3-Low                 0   \n",
       "4                0             3-Low                 0   \n",
       "\n",
       "   Speaker_Programs_Attended  Vouchers_Dropped      Specialty  \n",
       "0                          0                 0  Dermatologist  \n",
       "1                          0                 0  Dermatologist  \n",
       "2                          0                 0  Dermatologist  \n",
       "3                          0                 0  Dermatologist  \n",
       "4                          0                 0  Dermatologist  "
      ]
     },
     "execution_count": 4,
     "metadata": {},
     "output_type": "execute_result"
    }
   ],
   "source": [
    "data.head()"
   ]
  },
  {
   "cell_type": "code",
   "execution_count": 19,
   "metadata": {},
   "outputs": [
    {
     "data": {
      "text/plain": [
       "3-Low       252966\n",
       "2-Medium    187302\n",
       "1-High      129732\n",
       "Name: Physician_Segment, dtype: int64"
      ]
     },
     "execution_count": 19,
     "metadata": {},
     "output_type": "execute_result"
    }
   ],
   "source": [
    "data['Physician_Segment'].value_counts()"
   ]
  },
  {
   "cell_type": "code",
   "execution_count": 6,
   "metadata": {},
   "outputs": [
    {
     "data": {
      "text/plain": [
       "0.017659649122807018"
      ]
     },
     "execution_count": 6,
     "metadata": {},
     "output_type": "execute_result"
    }
   ],
   "source": [
    "len(data[(data['Speaker_Programs_Attended'] > 0) | (data['Vouchers_Dropped']>0)])/len(data)"
   ]
  },
  {
   "cell_type": "code",
   "execution_count": 18,
   "metadata": {},
   "outputs": [
    {
     "data": {
      "text/html": [
       "<div>\n",
       "<style scoped>\n",
       "    .dataframe tbody tr th:only-of-type {\n",
       "        vertical-align: middle;\n",
       "    }\n",
       "\n",
       "    .dataframe tbody tr th {\n",
       "        vertical-align: top;\n",
       "    }\n",
       "\n",
       "    .dataframe thead th {\n",
       "        text-align: right;\n",
       "    }\n",
       "</style>\n",
       "<table border=\"1\" class=\"dataframe\">\n",
       "  <thead>\n",
       "    <tr style=\"text-align: right;\">\n",
       "      <th></th>\n",
       "      <th>Physician_ID</th>\n",
       "      <th>Time_Period</th>\n",
       "      <th>Brand_Rx</th>\n",
       "      <th>Market_Rx</th>\n",
       "      <th>Sales_Rep_Calls</th>\n",
       "      <th>Samples_Dropped</th>\n",
       "      <th>Physician_Segment</th>\n",
       "      <th>Emails_Delivered</th>\n",
       "      <th>Speaker_Programs_Attended</th>\n",
       "      <th>Vouchers_Dropped</th>\n",
       "      <th>Specialty</th>\n",
       "    </tr>\n",
       "  </thead>\n",
       "  <tbody>\n",
       "    <tr>\n",
       "      <th>2741</th>\n",
       "      <td>axt00049</td>\n",
       "      <td>20190208</td>\n",
       "      <td>0.000</td>\n",
       "      <td>2.69269</td>\n",
       "      <td>0</td>\n",
       "      <td>0</td>\n",
       "      <td>3-Low</td>\n",
       "      <td>1</td>\n",
       "      <td>0</td>\n",
       "      <td>0</td>\n",
       "      <td>Nurse Practitioner</td>\n",
       "    </tr>\n",
       "    <tr>\n",
       "      <th>2742</th>\n",
       "      <td>axt00049</td>\n",
       "      <td>20190215</td>\n",
       "      <td>1.882</td>\n",
       "      <td>20.48435</td>\n",
       "      <td>1</td>\n",
       "      <td>0</td>\n",
       "      <td>3-Low</td>\n",
       "      <td>1</td>\n",
       "      <td>0</td>\n",
       "      <td>0</td>\n",
       "      <td>Nurse Practitioner</td>\n",
       "    </tr>\n",
       "    <tr>\n",
       "      <th>2745</th>\n",
       "      <td>axt00049</td>\n",
       "      <td>20190308</td>\n",
       "      <td>0.000</td>\n",
       "      <td>7.41902</td>\n",
       "      <td>1</td>\n",
       "      <td>0</td>\n",
       "      <td>3-Low</td>\n",
       "      <td>2</td>\n",
       "      <td>0</td>\n",
       "      <td>0</td>\n",
       "      <td>Nurse Practitioner</td>\n",
       "    </tr>\n",
       "    <tr>\n",
       "      <th>2746</th>\n",
       "      <td>axt00049</td>\n",
       "      <td>20190315</td>\n",
       "      <td>1.008</td>\n",
       "      <td>5.05989</td>\n",
       "      <td>1</td>\n",
       "      <td>0</td>\n",
       "      <td>3-Low</td>\n",
       "      <td>2</td>\n",
       "      <td>0</td>\n",
       "      <td>0</td>\n",
       "      <td>Nurse Practitioner</td>\n",
       "    </tr>\n",
       "    <tr>\n",
       "      <th>2747</th>\n",
       "      <td>axt00049</td>\n",
       "      <td>20190322</td>\n",
       "      <td>0.000</td>\n",
       "      <td>14.18437</td>\n",
       "      <td>0</td>\n",
       "      <td>0</td>\n",
       "      <td>3-Low</td>\n",
       "      <td>1</td>\n",
       "      <td>0</td>\n",
       "      <td>0</td>\n",
       "      <td>Nurse Practitioner</td>\n",
       "    </tr>\n",
       "    <tr>\n",
       "      <th>...</th>\n",
       "      <td>...</td>\n",
       "      <td>...</td>\n",
       "      <td>...</td>\n",
       "      <td>...</td>\n",
       "      <td>...</td>\n",
       "      <td>...</td>\n",
       "      <td>...</td>\n",
       "      <td>...</td>\n",
       "      <td>...</td>\n",
       "      <td>...</td>\n",
       "      <td>...</td>\n",
       "    </tr>\n",
       "    <tr>\n",
       "      <th>566315</th>\n",
       "      <td>axt09936</td>\n",
       "      <td>20190524</td>\n",
       "      <td>0.000</td>\n",
       "      <td>0.00000</td>\n",
       "      <td>0</td>\n",
       "      <td>0</td>\n",
       "      <td>3-Low</td>\n",
       "      <td>1</td>\n",
       "      <td>0</td>\n",
       "      <td>0</td>\n",
       "      <td>Nurse Practitioner</td>\n",
       "    </tr>\n",
       "    <tr>\n",
       "      <th>566316</th>\n",
       "      <td>axt09936</td>\n",
       "      <td>20190531</td>\n",
       "      <td>0.000</td>\n",
       "      <td>0.00000</td>\n",
       "      <td>0</td>\n",
       "      <td>0</td>\n",
       "      <td>3-Low</td>\n",
       "      <td>1</td>\n",
       "      <td>0</td>\n",
       "      <td>0</td>\n",
       "      <td>Nurse Practitioner</td>\n",
       "    </tr>\n",
       "    <tr>\n",
       "      <th>566326</th>\n",
       "      <td>axt09936</td>\n",
       "      <td>20190809</td>\n",
       "      <td>0.000</td>\n",
       "      <td>0.00000</td>\n",
       "      <td>1</td>\n",
       "      <td>0</td>\n",
       "      <td>3-Low</td>\n",
       "      <td>2</td>\n",
       "      <td>0</td>\n",
       "      <td>0</td>\n",
       "      <td>Nurse Practitioner</td>\n",
       "    </tr>\n",
       "    <tr>\n",
       "      <th>566331</th>\n",
       "      <td>axt09936</td>\n",
       "      <td>20190913</td>\n",
       "      <td>0.000</td>\n",
       "      <td>0.00000</td>\n",
       "      <td>0</td>\n",
       "      <td>0</td>\n",
       "      <td>3-Low</td>\n",
       "      <td>1</td>\n",
       "      <td>0</td>\n",
       "      <td>0</td>\n",
       "      <td>Nurse Practitioner</td>\n",
       "    </tr>\n",
       "    <tr>\n",
       "      <th>566339</th>\n",
       "      <td>axt09936</td>\n",
       "      <td>20191108</td>\n",
       "      <td>0.000</td>\n",
       "      <td>0.00000</td>\n",
       "      <td>0</td>\n",
       "      <td>0</td>\n",
       "      <td>3-Low</td>\n",
       "      <td>1</td>\n",
       "      <td>0</td>\n",
       "      <td>0</td>\n",
       "      <td>Nurse Practitioner</td>\n",
       "    </tr>\n",
       "  </tbody>\n",
       "</table>\n",
       "<p>3755 rows × 11 columns</p>\n",
       "</div>"
      ],
      "text/plain": [
       "       Physician_ID  Time_Period  Brand_Rx  Market_Rx  Sales_Rep_Calls  \\\n",
       "2741       axt00049     20190208     0.000    2.69269                0   \n",
       "2742       axt00049     20190215     1.882   20.48435                1   \n",
       "2745       axt00049     20190308     0.000    7.41902                1   \n",
       "2746       axt00049     20190315     1.008    5.05989                1   \n",
       "2747       axt00049     20190322     0.000   14.18437                0   \n",
       "...             ...          ...       ...        ...              ...   \n",
       "566315     axt09936     20190524     0.000    0.00000                0   \n",
       "566316     axt09936     20190531     0.000    0.00000                0   \n",
       "566326     axt09936     20190809     0.000    0.00000                1   \n",
       "566331     axt09936     20190913     0.000    0.00000                0   \n",
       "566339     axt09936     20191108     0.000    0.00000                0   \n",
       "\n",
       "        Samples_Dropped Physician_Segment  Emails_Delivered  \\\n",
       "2741                  0             3-Low                 1   \n",
       "2742                  0             3-Low                 1   \n",
       "2745                  0             3-Low                 2   \n",
       "2746                  0             3-Low                 2   \n",
       "2747                  0             3-Low                 1   \n",
       "...                 ...               ...               ...   \n",
       "566315                0             3-Low                 1   \n",
       "566316                0             3-Low                 1   \n",
       "566326                0             3-Low                 2   \n",
       "566331                0             3-Low                 1   \n",
       "566339                0             3-Low                 1   \n",
       "\n",
       "        Speaker_Programs_Attended  Vouchers_Dropped           Specialty  \n",
       "2741                            0                 0  Nurse Practitioner  \n",
       "2742                            0                 0  Nurse Practitioner  \n",
       "2745                            0                 0  Nurse Practitioner  \n",
       "2746                            0                 0  Nurse Practitioner  \n",
       "2747                            0                 0  Nurse Practitioner  \n",
       "...                           ...               ...                 ...  \n",
       "566315                          0                 0  Nurse Practitioner  \n",
       "566316                          0                 0  Nurse Practitioner  \n",
       "566326                          0                 0  Nurse Practitioner  \n",
       "566331                          0                 0  Nurse Practitioner  \n",
       "566339                          0                 0  Nurse Practitioner  \n",
       "\n",
       "[3755 rows x 11 columns]"
      ]
     },
     "execution_count": 18,
     "metadata": {},
     "output_type": "execute_result"
    }
   ],
   "source": [
    "d = data[data['Specialty'] == 'Nurse Practitioner']\n",
    "d[d['Emails_Delivered']>0]"
   ]
  },
  {
   "cell_type": "code",
   "execution_count": null,
   "metadata": {},
   "outputs": [],
   "source": [
    "df = data[data['Physician_ID'] == 'axt00001']"
   ]
  },
  {
   "cell_type": "code",
   "execution_count": 11,
   "metadata": {},
   "outputs": [],
   "source": [
    "df = df.drop(['Physician_ID', 'Time_Period', 'Physician_Segment', 'Speaker_Programs_Attended', 'Vouchers_Dropped', 'Specialty'], axis = 1)"
   ]
  },
  {
   "cell_type": "code",
   "execution_count": 17,
   "metadata": {},
   "outputs": [
    {
     "data": {
      "text/html": [
       "<div>\n",
       "<style scoped>\n",
       "    .dataframe tbody tr th:only-of-type {\n",
       "        vertical-align: middle;\n",
       "    }\n",
       "\n",
       "    .dataframe tbody tr th {\n",
       "        vertical-align: top;\n",
       "    }\n",
       "\n",
       "    .dataframe thead th {\n",
       "        text-align: right;\n",
       "    }\n",
       "</style>\n",
       "<table border=\"1\" class=\"dataframe\">\n",
       "  <thead>\n",
       "    <tr style=\"text-align: right;\">\n",
       "      <th></th>\n",
       "      <th>Brand_Rx</th>\n",
       "      <th>Market_Rx</th>\n",
       "      <th>Sales_Rep_Calls</th>\n",
       "      <th>Samples_Dropped</th>\n",
       "      <th>Emails_Delivered</th>\n",
       "    </tr>\n",
       "  </thead>\n",
       "  <tbody>\n",
       "    <tr>\n",
       "      <th>0</th>\n",
       "      <td>0.0</td>\n",
       "      <td>2.80567</td>\n",
       "      <td>1</td>\n",
       "      <td>0</td>\n",
       "      <td>0</td>\n",
       "    </tr>\n",
       "    <tr>\n",
       "      <th>1</th>\n",
       "      <td>0.0</td>\n",
       "      <td>20.57312</td>\n",
       "      <td>1</td>\n",
       "      <td>0</td>\n",
       "      <td>0</td>\n",
       "    </tr>\n",
       "    <tr>\n",
       "      <th>2</th>\n",
       "      <td>0.0</td>\n",
       "      <td>6.16010</td>\n",
       "      <td>1</td>\n",
       "      <td>0</td>\n",
       "      <td>0</td>\n",
       "    </tr>\n",
       "    <tr>\n",
       "      <th>3</th>\n",
       "      <td>0.0</td>\n",
       "      <td>8.95501</td>\n",
       "      <td>1</td>\n",
       "      <td>5</td>\n",
       "      <td>0</td>\n",
       "    </tr>\n",
       "    <tr>\n",
       "      <th>4</th>\n",
       "      <td>0.0</td>\n",
       "      <td>9.13793</td>\n",
       "      <td>1</td>\n",
       "      <td>0</td>\n",
       "      <td>0</td>\n",
       "    </tr>\n",
       "  </tbody>\n",
       "</table>\n",
       "</div>"
      ],
      "text/plain": [
       "   Brand_Rx  Market_Rx  Sales_Rep_Calls  Samples_Dropped  Emails_Delivered\n",
       "0       0.0    2.80567                1                0                 0\n",
       "1       0.0   20.57312                1                0                 0\n",
       "2       0.0    6.16010                1                0                 0\n",
       "3       0.0    8.95501                1                5                 0\n",
       "4       0.0    9.13793                1                0                 0"
      ]
     },
     "execution_count": 17,
     "metadata": {},
     "output_type": "execute_result"
    }
   ],
   "source": [
    "df.head()"
   ]
  },
  {
   "cell_type": "code",
   "execution_count": 15,
   "metadata": {},
   "outputs": [],
   "source": [
    "# xgboost regressor\n",
    "from xgboost import XGBRegressor"
   ]
  },
  {
   "cell_type": "code",
   "execution_count": 34,
   "metadata": {},
   "outputs": [],
   "source": [
    "regressor = XGBRegressor()"
   ]
  },
  {
   "cell_type": "code",
   "execution_count": 35,
   "metadata": {},
   "outputs": [],
   "source": [
    "X = df.drop('Brand_Rx', axis = 1)\n",
    "y = df['Brand_Rx']"
   ]
  },
  {
   "cell_type": "code",
   "execution_count": 36,
   "metadata": {},
   "outputs": [
    {
     "data": {
      "text/plain": [
       "XGBRegressor(base_score=0.5, booster='gbtree', callbacks=None,\n",
       "             colsample_bylevel=1, colsample_bynode=1, colsample_bytree=1,\n",
       "             early_stopping_rounds=None, enable_categorical=False,\n",
       "             eval_metric=None, feature_types=None, gamma=0, gpu_id=-1,\n",
       "             grow_policy='depthwise', importance_type=None,\n",
       "             interaction_constraints='', learning_rate=0.300000012, max_bin=256,\n",
       "             max_cat_threshold=64, max_cat_to_onehot=4, max_delta_step=0,\n",
       "             max_depth=6, max_leaves=0, min_child_weight=1, missing=nan,\n",
       "             monotone_constraints='()', n_estimators=100, n_jobs=0,\n",
       "             num_parallel_tree=1, predictor='auto', random_state=0, ...)"
      ]
     },
     "execution_count": 36,
     "metadata": {},
     "output_type": "execute_result"
    }
   ],
   "source": [
    "regressor.fit(X, y)"
   ]
  },
  {
   "cell_type": "code",
   "execution_count": 51,
   "metadata": {},
   "outputs": [
    {
     "data": {
      "text/plain": [
       "array(['Market_Rx', 'Sales_Rep_Calls', 'Samples_Dropped',\n",
       "       'Emails_Delivered'], dtype='<U16')"
      ]
     },
     "execution_count": 51,
     "metadata": {},
     "output_type": "execute_result"
    }
   ],
   "source": [
    "regressor.feature_names_in_"
   ]
  },
  {
   "cell_type": "code",
   "execution_count": 48,
   "metadata": {},
   "outputs": [
    {
     "data": {
      "text/plain": [
       "array([0.254423  , 0.09616681, 0.11811881, 0.5312914 ], dtype=float32)"
      ]
     },
     "execution_count": 48,
     "metadata": {},
     "output_type": "execute_result"
    }
   ],
   "source": [
    "regressor.feature_importances_\n"
   ]
  },
  {
   "cell_type": "code",
   "execution_count": 45,
   "metadata": {},
   "outputs": [],
   "source": [
    "# lgbm regressor\n",
    "import lightgbm as lgb\n"
   ]
  },
  {
   "cell_type": "code",
   "execution_count": 46,
   "metadata": {},
   "outputs": [
    {
     "data": {
      "text/plain": [
       "LGBMRegressor()"
      ]
     },
     "execution_count": 46,
     "metadata": {},
     "output_type": "execute_result"
    }
   ],
   "source": [
    "lgbm = lgb.LGBMRegressor()\n",
    "lgbm.fit(X, y)"
   ]
  },
  {
   "cell_type": "code",
   "execution_count": 63,
   "metadata": {},
   "outputs": [
    {
     "data": {
      "text/plain": [
       "array([67, 15,  0, 18], dtype=int32)"
      ]
     },
     "execution_count": 63,
     "metadata": {},
     "output_type": "execute_result"
    }
   ],
   "source": [
    "lgbm.feature_importances_"
   ]
  },
  {
   "cell_type": "code",
   "execution_count": 62,
   "metadata": {},
   "outputs": [
    {
     "data": {
      "text/plain": [
       "2"
      ]
     },
     "execution_count": 62,
     "metadata": {},
     "output_type": "execute_result"
    }
   ],
   "source": [
    "# get feature importance\n",
    "lgbm.feature_importances_[1: ].argmax()"
   ]
  },
  {
   "cell_type": "code",
   "execution_count": 57,
   "metadata": {},
   "outputs": [
    {
     "data": {
      "text/plain": [
       "['Market_Rx', 'Sales_Rep_Calls', 'Samples_Dropped', 'Emails_Delivered']"
      ]
     },
     "execution_count": 57,
     "metadata": {},
     "output_type": "execute_result"
    }
   ],
   "source": [
    "lgbm.feature_name_"
   ]
  },
  {
   "cell_type": "code",
   "execution_count": null,
   "metadata": {},
   "outputs": [],
   "source": []
  },
  {
   "cell_type": "code",
   "execution_count": 79,
   "metadata": {},
   "outputs": [],
   "source": [
    "pid = data['Physician_ID'].unique()"
   ]
  },
  {
   "cell_type": "code",
   "execution_count": 80,
   "metadata": {},
   "outputs": [],
   "source": [
    "pid.sort()"
   ]
  },
  {
   "cell_type": "code",
   "execution_count": 81,
   "metadata": {},
   "outputs": [],
   "source": [
    "promotion = []\n",
    "for id in pid:\n",
    "    df = data[data['Physician_ID'] == id]\n",
    "    df = df.drop(['Physician_ID', 'Time_Period', 'Physician_Segment', 'Speaker_Programs_Attended', 'Vouchers_Dropped', 'Specialty', 'Market_Rx'], axis = 1)\n",
    "    X = df.drop('Brand_Rx', axis = 1)\n",
    "    y = df['Brand_Rx']\n",
    "    lgbm = lgb.LGBMRegressor()\n",
    "    lgbm.fit(X, y)\n",
    "    promotion.append(lgbm.feature_importances_.argmax())"
   ]
  },
  {
   "cell_type": "code",
   "execution_count": 82,
   "metadata": {},
   "outputs": [
    {
     "data": {
      "text/html": [
       "<div>\n",
       "<style scoped>\n",
       "    .dataframe tbody tr th:only-of-type {\n",
       "        vertical-align: middle;\n",
       "    }\n",
       "\n",
       "    .dataframe tbody tr th {\n",
       "        vertical-align: top;\n",
       "    }\n",
       "\n",
       "    .dataframe thead th {\n",
       "        text-align: right;\n",
       "    }\n",
       "</style>\n",
       "<table border=\"1\" class=\"dataframe\">\n",
       "  <thead>\n",
       "    <tr style=\"text-align: right;\">\n",
       "      <th></th>\n",
       "      <th>Physician_ID</th>\n",
       "      <th>Channel</th>\n",
       "    </tr>\n",
       "  </thead>\n",
       "  <tbody>\n",
       "    <tr>\n",
       "      <th>0</th>\n",
       "      <td>axt00001</td>\n",
       "      <td>0</td>\n",
       "    </tr>\n",
       "    <tr>\n",
       "      <th>1</th>\n",
       "      <td>axt00002</td>\n",
       "      <td>0</td>\n",
       "    </tr>\n",
       "    <tr>\n",
       "      <th>2</th>\n",
       "      <td>axt00003</td>\n",
       "      <td>0</td>\n",
       "    </tr>\n",
       "    <tr>\n",
       "      <th>3</th>\n",
       "      <td>axt00004</td>\n",
       "      <td>0</td>\n",
       "    </tr>\n",
       "    <tr>\n",
       "      <th>4</th>\n",
       "      <td>axt00005</td>\n",
       "      <td>0</td>\n",
       "    </tr>\n",
       "  </tbody>\n",
       "</table>\n",
       "</div>"
      ],
      "text/plain": [
       "  Physician_ID  Channel\n",
       "0     axt00001        0\n",
       "1     axt00002        0\n",
       "2     axt00003        0\n",
       "3     axt00004        0\n",
       "4     axt00005        0"
      ]
     },
     "execution_count": 82,
     "metadata": {},
     "output_type": "execute_result"
    }
   ],
   "source": [
    "res = pd.DataFrame({'Physician_ID': pid, 'Channel': promotion})\n",
    "res.head()"
   ]
  },
  {
   "cell_type": "code",
   "execution_count": 83,
   "metadata": {},
   "outputs": [],
   "source": [
    "res.to_csv('submission2.csv', index = False)"
   ]
  },
  {
   "cell_type": "code",
   "execution_count": null,
   "metadata": {},
   "outputs": [],
   "source": []
  }
 ],
 "metadata": {
  "kernelspec": {
   "display_name": "Python 3",
   "language": "python",
   "name": "python3"
  },
  "language_info": {
   "codemirror_mode": {
    "name": "ipython",
    "version": 3
   },
   "file_extension": ".py",
   "mimetype": "text/x-python",
   "name": "python",
   "nbconvert_exporter": "python",
   "pygments_lexer": "ipython3",
   "version": "3.8.10 (default, Nov 14 2022, 12:59:47) \n[GCC 9.4.0]"
  },
  "orig_nbformat": 4,
  "vscode": {
   "interpreter": {
    "hash": "916dbcbb3f70747c44a77c7bcd40155683ae19c65e1c03b4aa3499c5328201f1"
   }
  }
 },
 "nbformat": 4,
 "nbformat_minor": 2
}
